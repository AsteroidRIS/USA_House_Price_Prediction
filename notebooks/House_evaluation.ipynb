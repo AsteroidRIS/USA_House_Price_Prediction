{
  "nbformat": 4,
  "nbformat_minor": 0,
  "metadata": {
    "colab": {
      "provenance": []
    },
    "kernelspec": {
      "name": "python3",
      "display_name": "Python 3"
    },
    "language_info": {
      "name": "python"
    }
  },
  "cells": [
    {
      "cell_type": "code",
      "execution_count": null,
      "metadata": {
        "colab": {
          "base_uri": "https://localhost:8080/"
        },
        "id": "o6iyniIdGgXU",
        "outputId": "9d1cf9d7-75aa-4628-ad50-a457c1a61824"
      },
      "outputs": [
        {
          "output_type": "stream",
          "name": "stdout",
          "text": [
            "Mounted at /content/drive\n"
          ]
        }
      ],
      "source": [
        "from google.colab import drive\n",
        "drive.mount('/content/drive')\n",
        "import pandas as pd\n",
        "pd.options.mode.chained_assignment = None  # default='warn'\n",
        "from sklearn.preprocessing import LabelEncoder\n"
      ]
    },
    {
      "cell_type": "code",
      "source": [
        "df = pd.read_csv('/content/drive/MyDrive/House_pricing/train_validate.csv')"
      ],
      "metadata": {
        "id": "Sip0yKdnGtLS"
      },
      "execution_count": null,
      "outputs": []
    },
    {
      "cell_type": "code",
      "source": [
        "df.columns"
      ],
      "metadata": {
        "colab": {
          "base_uri": "https://localhost:8080/"
        },
        "id": "usKIC1AKDClz",
        "outputId": "44a205a1-7a59-4683-a7a4-4c73cfca56b5"
      },
      "execution_count": null,
      "outputs": [
        {
          "output_type": "execute_result",
          "data": {
            "text/plain": [
              "Index(['status', 'price', 'bed', 'bath', 'acre_lot', 'full_address', 'street',\n",
              "       'city', 'state', 'zip_code', 'house_size', 'sold_date'],\n",
              "      dtype='object')"
            ]
          },
          "metadata": {},
          "execution_count": 3
        }
      ]
    },
    {
      "cell_type": "code",
      "source": [
        "df['acre_lot']"
      ],
      "metadata": {
        "colab": {
          "base_uri": "https://localhost:8080/"
        },
        "id": "0x1cuh53DFX9",
        "outputId": "aa7479bc-65ce-4307-f371-2dc504c104da"
      },
      "execution_count": null,
      "outputs": [
        {
          "output_type": "execute_result",
          "data": {
            "text/plain": [
              "0         0.14\n",
              "1          NaN\n",
              "2         0.08\n",
              "3          NaN\n",
              "4         0.05\n",
              "          ... \n",
              "738522    0.14\n",
              "738523     NaN\n",
              "738524     NaN\n",
              "738525    0.05\n",
              "738526    0.12\n",
              "Name: acre_lot, Length: 738527, dtype: float64"
            ]
          },
          "metadata": {},
          "execution_count": 9
        }
      ]
    },
    {
      "cell_type": "markdown",
      "source": [
        "**Sanity_check**"
      ],
      "metadata": {
        "id": "eNA1zK25GzFT"
      }
    },
    {
      "cell_type": "code",
      "source": [
        "def sanity_check(df,mode='train'):\n",
        "    '''\n",
        "      This function perform sanity and check create a dataframe.\n",
        "      Input:\n",
        "        df : Dataframe which require sanity-check\n",
        "        mode : train or predict\n",
        "      return : None\n",
        "    '''\n",
        "    if mode == 'train':\n",
        "      print('Percentage of missing values column wise\\n:', df.isnull().sum()/len(df))\n",
        "    # sold_date must be datetime object\n",
        "    df['sold_date'] = pd.to_datetime(df['sold_date'])\n",
        "    print('sanity check done!')\n",
        "    return df\n"
      ],
      "metadata": {
        "id": "qCIMWNiJHEKN"
      },
      "execution_count": null,
      "outputs": []
    },
    {
      "cell_type": "markdown",
      "source": [
        "**Handling missing values**"
      ],
      "metadata": {
        "id": "R8Lmmp1aG_L6"
      }
    },
    {
      "cell_type": "code",
      "source": [
        "\n",
        "def handling_missing_values(df):\n",
        "\n",
        "    df.dropna(inplace=True)\n",
        "    columns_to_dropped = ['full_address', 'street', \"city\", 'status', 'zip_code',\n",
        "                          \"sold_date\"]  # reasons states in EDA part.\n",
        "    df.drop(columns_to_dropped, axis=1, inplace=True)\n",
        "    print('handling of missing values done!')\n",
        "    return df"
      ],
      "metadata": {
        "id": "DPstO-MPG9qn"
      },
      "execution_count": null,
      "outputs": []
    },
    {
      "cell_type": "markdown",
      "source": [
        "**Removes_outliers**"
      ],
      "metadata": {
        "id": "tw1rxgeRHH_L"
      }
    },
    {
      "cell_type": "code",
      "source": [
        "def remove_state_outlier(value):\n",
        "    if value not in ['New Jersey','Connecticut','New York','Pennsylvania','Massachusetts']:\n",
        "        return 'New Jersey'\n",
        "    else:\n",
        "        return value\n",
        "\n",
        "def remove_bed_outlier(value):\n",
        "    if value not in [3,4,2,5]:\n",
        "        return 3\n",
        "    else:\n",
        "        return value\n",
        "\n",
        "def remove_bath_outlier(value):\n",
        "    if value not in [1,2,3,4]:\n",
        "        return 2\n",
        "    else:\n",
        "        return value\n",
        "def handling_outliers(df, mode = 'train'):\n",
        "    if mode == 'train':\n",
        "        df = df[(df[\"price\"] < 800000) & (df[\"house_size\"] < 5000)]  # reason explained in EDA part\n",
        "\n",
        "    df['state'] = df['state'].apply(remove_state_outlier)\n",
        "    df['bath'] = df['bath'].apply(remove_bath_outlier)\n",
        "    df['bed'] = df['bed'].apply(remove_bed_outlier)\n",
        "\n",
        "    print('handling of outliers done!')\n",
        "    return df"
      ],
      "metadata": {
        "id": "1eFt357_HMmW"
      },
      "execution_count": null,
      "outputs": []
    },
    {
      "cell_type": "markdown",
      "source": [
        "**handling catgoricals columns**"
      ],
      "metadata": {
        "id": "YzPAYvnyHYSC"
      }
    },
    {
      "cell_type": "code",
      "source": [
        "\n",
        "def handling_categorical_cols(df):\n",
        "    \"\"\"\n",
        "    This function encodes a categorical column based on the basis of their order label.\n",
        "    input:\n",
        "        df : Input DataFrame in which encoding has to be created\n",
        "        col : Column name which has to be encoded\n",
        "    return:\n",
        "          label encoded dict for column\n",
        "\n",
        "    \"\"\"\n",
        "\n",
        "    object_columns = df.select_dtypes(object).columns\n",
        "    for col in object_columns:\n",
        "        le = LabelEncoder()\n",
        "        le.fit(df[col])\n",
        "        encoded_dict = dict(zip((le.classes_),le.transform(le.classes_)))\n",
        "        df[col] = df[col].replace(encoded_dict)\n",
        "    print('encoding of categorical columns done!')\n",
        "    return encoded_dict, df\n"
      ],
      "metadata": {
        "id": "idnJ_oZpHezS"
      },
      "execution_count": null,
      "outputs": []
    },
    {
      "cell_type": "markdown",
      "source": [
        "**pipeline of preprocessing**"
      ],
      "metadata": {
        "id": "iQ43BoN7HnWR"
      }
    },
    {
      "cell_type": "code",
      "source": [
        "\n",
        "def pre_process(df, target):\n",
        "    df = sanity_check(df)\n",
        "    print('shape of dataframe before dropping null values and columns:', df.shape)\n",
        "\n",
        "    df = handling_missing_values(df)\n",
        "    print('shape of dataframe after dropping null values and columns:', df.shape)\n",
        "    df = handling_outliers(df, mode = 'train')\n",
        "    encoded_dict, df = handling_categorical_cols(df)\n",
        "    X = df.drop([target], axis =1)\n",
        "    y = df[target]\n",
        "    return X, y, encoded_dict, df"
      ],
      "metadata": {
        "id": "-AYHgs7gHm0b"
      },
      "execution_count": null,
      "outputs": []
    },
    {
      "cell_type": "code",
      "source": [
        "X, y, encoded_dict, df = pre_process(df, 'price')\n",
        "print(X.shape)\n",
        "print(y.shape)\n",
        "print(encoded_dict)\n",
        "print(df.head())"
      ],
      "metadata": {
        "colab": {
          "base_uri": "https://localhost:8080/"
        },
        "id": "OsT0pWJmHy6m",
        "outputId": "85c64dcc-ecae-4255-d77e-044e5d410642"
      },
      "execution_count": null,
      "outputs": [
        {
          "output_type": "stream",
          "name": "stdout",
          "text": [
            "Percentage of missing values column wise\n",
            ": status          0.000000\n",
            "price           0.000080\n",
            "bed             0.142610\n",
            "bath            0.124729\n",
            "acre_lot        0.296102\n",
            "full_address    0.000000\n",
            "street          0.002299\n",
            "city            0.000076\n",
            "state           0.000000\n",
            "zip_code        0.000214\n",
            "house_size      0.322883\n",
            "sold_date       0.505444\n",
            "dtype: float64\n",
            "sanity check done!\n",
            "shape of dataframe before dropping null values and columns: (738527, 12)\n",
            "handling of missing values done!\n",
            "shape of dataframe after dropping null values and columns: (185633, 6)\n",
            "handling of outliers done!\n",
            "encoding of categorical columns done!\n",
            "(143373, 5)\n",
            "(143373,)\n",
            "{'Connecticut': 0, 'Massachusetts': 1, 'New Jersey': 2, 'New York': 3, 'Pennsylvania': 4}\n",
            "       price  bed  bath  acre_lot  state  house_size\n",
            "5   335000.0  4.0   2.0      1.20      2      2920.0\n",
            "14  639900.0  4.0   4.0      0.29      2      3852.0\n",
            "20  366000.0  3.0   3.0      0.04      2      1636.0\n",
            "24  225000.0  4.0   2.0      0.13      2      1502.0\n",
            "37  269000.0  3.0   4.0      0.11      2      2496.0\n"
          ]
        }
      ]
    },
    {
      "cell_type": "code",
      "source": [
        "df.corr()"
      ],
      "metadata": {
        "colab": {
          "base_uri": "https://localhost:8080/",
          "height": 237
        },
        "id": "cAHtJrCkJA6g",
        "outputId": "85c8cbcb-968d-43e9-82af-884caae27ff5"
      },
      "execution_count": null,
      "outputs": [
        {
          "output_type": "execute_result",
          "data": {
            "text/plain": [
              "               price       bed      bath  acre_lot     state  house_size\n",
              "price       1.000000  0.235788  0.440061  0.003011  0.095758    0.404337\n",
              "bed         0.235788  1.000000  0.378190  0.000372 -0.047524    0.466705\n",
              "bath        0.440061  0.378190  1.000000  0.012269 -0.033286    0.620730\n",
              "acre_lot    0.003011  0.000372  0.012269  1.000000  0.008278    0.008518\n",
              "state       0.095758 -0.047524 -0.033286  0.008278  1.000000   -0.066833\n",
              "house_size  0.404337  0.466705  0.620730  0.008518 -0.066833    1.000000"
            ],
            "text/html": [
              "\n",
              "  <div id=\"df-eee93a31-6559-4b0f-92d8-5f5d51345919\">\n",
              "    <div class=\"colab-df-container\">\n",
              "      <div>\n",
              "<style scoped>\n",
              "    .dataframe tbody tr th:only-of-type {\n",
              "        vertical-align: middle;\n",
              "    }\n",
              "\n",
              "    .dataframe tbody tr th {\n",
              "        vertical-align: top;\n",
              "    }\n",
              "\n",
              "    .dataframe thead th {\n",
              "        text-align: right;\n",
              "    }\n",
              "</style>\n",
              "<table border=\"1\" class=\"dataframe\">\n",
              "  <thead>\n",
              "    <tr style=\"text-align: right;\">\n",
              "      <th></th>\n",
              "      <th>price</th>\n",
              "      <th>bed</th>\n",
              "      <th>bath</th>\n",
              "      <th>acre_lot</th>\n",
              "      <th>state</th>\n",
              "      <th>house_size</th>\n",
              "    </tr>\n",
              "  </thead>\n",
              "  <tbody>\n",
              "    <tr>\n",
              "      <th>price</th>\n",
              "      <td>1.000000</td>\n",
              "      <td>0.235788</td>\n",
              "      <td>0.440061</td>\n",
              "      <td>0.003011</td>\n",
              "      <td>0.095758</td>\n",
              "      <td>0.404337</td>\n",
              "    </tr>\n",
              "    <tr>\n",
              "      <th>bed</th>\n",
              "      <td>0.235788</td>\n",
              "      <td>1.000000</td>\n",
              "      <td>0.378190</td>\n",
              "      <td>0.000372</td>\n",
              "      <td>-0.047524</td>\n",
              "      <td>0.466705</td>\n",
              "    </tr>\n",
              "    <tr>\n",
              "      <th>bath</th>\n",
              "      <td>0.440061</td>\n",
              "      <td>0.378190</td>\n",
              "      <td>1.000000</td>\n",
              "      <td>0.012269</td>\n",
              "      <td>-0.033286</td>\n",
              "      <td>0.620730</td>\n",
              "    </tr>\n",
              "    <tr>\n",
              "      <th>acre_lot</th>\n",
              "      <td>0.003011</td>\n",
              "      <td>0.000372</td>\n",
              "      <td>0.012269</td>\n",
              "      <td>1.000000</td>\n",
              "      <td>0.008278</td>\n",
              "      <td>0.008518</td>\n",
              "    </tr>\n",
              "    <tr>\n",
              "      <th>state</th>\n",
              "      <td>0.095758</td>\n",
              "      <td>-0.047524</td>\n",
              "      <td>-0.033286</td>\n",
              "      <td>0.008278</td>\n",
              "      <td>1.000000</td>\n",
              "      <td>-0.066833</td>\n",
              "    </tr>\n",
              "    <tr>\n",
              "      <th>house_size</th>\n",
              "      <td>0.404337</td>\n",
              "      <td>0.466705</td>\n",
              "      <td>0.620730</td>\n",
              "      <td>0.008518</td>\n",
              "      <td>-0.066833</td>\n",
              "      <td>1.000000</td>\n",
              "    </tr>\n",
              "  </tbody>\n",
              "</table>\n",
              "</div>\n",
              "      <button class=\"colab-df-convert\" onclick=\"convertToInteractive('df-eee93a31-6559-4b0f-92d8-5f5d51345919')\"\n",
              "              title=\"Convert this dataframe to an interactive table.\"\n",
              "              style=\"display:none;\">\n",
              "        \n",
              "  <svg xmlns=\"http://www.w3.org/2000/svg\" height=\"24px\"viewBox=\"0 0 24 24\"\n",
              "       width=\"24px\">\n",
              "    <path d=\"M0 0h24v24H0V0z\" fill=\"none\"/>\n",
              "    <path d=\"M18.56 5.44l.94 2.06.94-2.06 2.06-.94-2.06-.94-.94-2.06-.94 2.06-2.06.94zm-11 1L8.5 8.5l.94-2.06 2.06-.94-2.06-.94L8.5 2.5l-.94 2.06-2.06.94zm10 10l.94 2.06.94-2.06 2.06-.94-2.06-.94-.94-2.06-.94 2.06-2.06.94z\"/><path d=\"M17.41 7.96l-1.37-1.37c-.4-.4-.92-.59-1.43-.59-.52 0-1.04.2-1.43.59L10.3 9.45l-7.72 7.72c-.78.78-.78 2.05 0 2.83L4 21.41c.39.39.9.59 1.41.59.51 0 1.02-.2 1.41-.59l7.78-7.78 2.81-2.81c.8-.78.8-2.07 0-2.86zM5.41 20L4 18.59l7.72-7.72 1.47 1.35L5.41 20z\"/>\n",
              "  </svg>\n",
              "      </button>\n",
              "      \n",
              "  <style>\n",
              "    .colab-df-container {\n",
              "      display:flex;\n",
              "      flex-wrap:wrap;\n",
              "      gap: 12px;\n",
              "    }\n",
              "\n",
              "    .colab-df-convert {\n",
              "      background-color: #E8F0FE;\n",
              "      border: none;\n",
              "      border-radius: 50%;\n",
              "      cursor: pointer;\n",
              "      display: none;\n",
              "      fill: #1967D2;\n",
              "      height: 32px;\n",
              "      padding: 0 0 0 0;\n",
              "      width: 32px;\n",
              "    }\n",
              "\n",
              "    .colab-df-convert:hover {\n",
              "      background-color: #E2EBFA;\n",
              "      box-shadow: 0px 1px 2px rgba(60, 64, 67, 0.3), 0px 1px 3px 1px rgba(60, 64, 67, 0.15);\n",
              "      fill: #174EA6;\n",
              "    }\n",
              "\n",
              "    [theme=dark] .colab-df-convert {\n",
              "      background-color: #3B4455;\n",
              "      fill: #D2E3FC;\n",
              "    }\n",
              "\n",
              "    [theme=dark] .colab-df-convert:hover {\n",
              "      background-color: #434B5C;\n",
              "      box-shadow: 0px 1px 3px 1px rgba(0, 0, 0, 0.15);\n",
              "      filter: drop-shadow(0px 1px 2px rgba(0, 0, 0, 0.3));\n",
              "      fill: #FFFFFF;\n",
              "    }\n",
              "  </style>\n",
              "\n",
              "      <script>\n",
              "        const buttonEl =\n",
              "          document.querySelector('#df-eee93a31-6559-4b0f-92d8-5f5d51345919 button.colab-df-convert');\n",
              "        buttonEl.style.display =\n",
              "          google.colab.kernel.accessAllowed ? 'block' : 'none';\n",
              "\n",
              "        async function convertToInteractive(key) {\n",
              "          const element = document.querySelector('#df-eee93a31-6559-4b0f-92d8-5f5d51345919');\n",
              "          const dataTable =\n",
              "            await google.colab.kernel.invokeFunction('convertToInteractive',\n",
              "                                                     [key], {});\n",
              "          if (!dataTable) return;\n",
              "\n",
              "          const docLinkHtml = 'Like what you see? Visit the ' +\n",
              "            '<a target=\"_blank\" href=https://colab.research.google.com/notebooks/data_table.ipynb>data table notebook</a>'\n",
              "            + ' to learn more about interactive tables.';\n",
              "          element.innerHTML = '';\n",
              "          dataTable['output_type'] = 'display_data';\n",
              "          await google.colab.output.renderOutput(dataTable, element);\n",
              "          const docLink = document.createElement('div');\n",
              "          docLink.innerHTML = docLinkHtml;\n",
              "          element.appendChild(docLink);\n",
              "        }\n",
              "      </script>\n",
              "    </div>\n",
              "  </div>\n",
              "  "
            ]
          },
          "metadata": {},
          "execution_count": 9
        }
      ]
    },
    {
      "cell_type": "code",
      "source": [
        "import seaborn as sns\n",
        "import matplotlib.pyplot as plt\n",
        "dataplot = sns.heatmap(df.corr(), cmap=\"YlGnBu\", annot=True)\n",
        "  \n",
        "# displaying heatmap\n",
        "plt.show()"
      ],
      "metadata": {
        "colab": {
          "base_uri": "https://localhost:8080/",
          "height": 270
        },
        "id": "2ranej02JPH8",
        "outputId": "c48b3de9-6b76-43b7-ea2f-f0b82db5a0a8"
      },
      "execution_count": null,
      "outputs": [
        {
          "output_type": "display_data",
          "data": {
            "text/plain": [
              "<Figure size 432x288 with 2 Axes>"
            ],
            "image/png": "[encoded data removed]"
          },
          "metadata": {
            "needs_background": "light"
          }
        }
      ]
    },
    {
      "cell_type": "code",
      "source": [],
      "metadata": {
        "id": "KkfMloGnJPFW"
      },
      "execution_count": null,
      "outputs": []
    },
    {
      "cell_type": "markdown",
      "source": [
        "**Evaluation**"
      ],
      "metadata": {
        "id": "JIt1r4-1Iwno"
      }
    },
    {
      "cell_type": "code",
      "source": [
        "from sklearn.preprocessing import StandardScaler\n",
        "from sklearn.model_selection import train_test_split\n",
        "from sklearn.preprocessing import PolynomialFeatures\n",
        "from sklearn.pipeline import make_pipeline\n",
        "from sklearn.preprocessing import PowerTransformer\n",
        "from sklearn.preprocessing import RobustScaler\n",
        "from sklearn.preprocessing import SplineTransformer\n",
        "from sklearn import linear_model\n",
        "from sklearn import metrics"
      ],
      "metadata": {
        "id": "nonDaCdmIpsh"
      },
      "execution_count": null,
      "outputs": []
    },
    {
      "cell_type": "code",
      "source": [
        "X = df.drop(['price'], axis = 1)\n",
        "y = df['price']\n",
        "def info_features(X,y):\n",
        "  print('shape of x:',X.shape)\n",
        "  print('shape of y:',y.shape)\n",
        "  print('length of y:',len(y))\n",
        "  \n",
        "info_features(X,y)"
      ],
      "metadata": {
        "colab": {
          "base_uri": "https://localhost:8080/"
        },
        "id": "NkTZ2gHhI3WI",
        "outputId": "9dcb94cc-76ed-4044-918e-9f218d3166e3"
      },
      "execution_count": null,
      "outputs": [
        {
          "output_type": "stream",
          "name": "stdout",
          "text": [
            "shape of x: (143373, 5)\n",
            "shape of y: (143373,)\n",
            "length of y: 143373\n"
          ]
        }
      ]
    },
    {
      "cell_type": "code",
      "source": [
        "from sklearn.model_selection import train_test_split\n"
      ],
      "metadata": {
        "id": "_Uk2KNehKE1N"
      },
      "execution_count": null,
      "outputs": []
    },
    {
      "cell_type": "code",
      "source": [
        "X_train, X_test, y_train, y_test = train_test_split(X, y, test_size = 0.3, random_state = 42)"
      ],
      "metadata": {
        "id": "bBHgQfJ8I-lD"
      },
      "execution_count": null,
      "outputs": []
    },
    {
      "cell_type": "code",
      "source": [
        "from sklearn.preprocessing import StandardScaler\n",
        "from sklearn.model_selection import train_test_split\n",
        "from sklearn.preprocessing import PolynomialFeatures\n",
        "from sklearn.pipeline import make_pipeline\n",
        "from sklearn.preprocessing import PowerTransformer\n",
        "from sklearn.preprocessing import RobustScaler\n",
        "from sklearn.preprocessing import SplineTransformer\n",
        "from sklearn import linear_model\n",
        "from sklearn import metrics\n",
        "from sklearn.model_selection import RandomizedSearchCV\n",
        "from sklearn.model_selection import GridSearchCV\n",
        "from sklearn.neighbors import KNeighborsRegressor\n",
        "from sklearn.ensemble import RandomForestRegressor\n",
        "from sklearn.tree import DecisionTreeRegressor"
      ],
      "metadata": {
        "id": "nMh-C2G12T-V"
      },
      "execution_count": null,
      "outputs": []
    },
    {
      "cell_type": "code",
      "source": [
        "## Baseline model\n",
        "reg = linear_model.LinearRegression()\n",
        "reg.fit(X_train,y_train)\n",
        "metrics.r2_score(y_train,reg.predict(X_train)), metrics.r2_score(y_test,reg.predict(X_test))"
      ],
      "metadata": {
        "colab": {
          "base_uri": "https://localhost:8080/"
        },
        "id": "kg0ctnPr2T9T",
        "outputId": "fd3adf6c-24d1-44b5-9e37-4a35a7b0882e"
      },
      "execution_count": null,
      "outputs": [
        {
          "output_type": "execute_result",
          "data": {
            "text/plain": [
              "(0.2370852381726707, 0.23616532942634128)"
            ]
          },
          "metadata": {},
          "execution_count": 16
        }
      ]
    },
    {
      "cell_type": "code",
      "source": [
        "k_range = list(range(1, 30))\n",
        "params = dict(n_neighbors = k_range)\n",
        "knn_regressor = GridSearchCV(KNeighborsRegressor(), params, cv =10, scoring = 'neg_mean_squared_error')\n",
        "knn_regressor.fit(X_train, y_train)\n",
        "metrics.r2_score(y_train,knn_regressor.predict(X_train)),metrics.r2_score(y_test,knn_regressor.predict(X_test))"
      ],
      "metadata": {
        "id": "cdM6JhLH-JQl",
        "colab": {
          "base_uri": "https://localhost:8080/"
        },
        "outputId": "bffcd7a0-990c-4bf4-db39-04ff9cfa3a76"
      },
      "execution_count": null,
      "outputs": [
        {
          "output_type": "execute_result",
          "data": {
            "text/plain": [
              "(0.9853856161183896, 0.9260929594374975)"
            ]
          },
          "metadata": {},
          "execution_count": 17
        }
      ]
    },
    {
      "cell_type": "code",
      "source": [
        "knn_regressor.get_params"
      ],
      "metadata": {
        "id": "xwSuGcI8-NZQ",
        "colab": {
          "base_uri": "https://localhost:8080/"
        },
        "outputId": "b48cc2a3-e707-41a1-dd49-049fd4f4bb05"
      },
      "execution_count": null,
      "outputs": [
        {
          "output_type": "execute_result",
          "data": {
            "text/plain": [
              "<bound method BaseEstimator.get_params of GridSearchCV(cv=10, estimator=KNeighborsRegressor(),\n",
              "             param_grid={'n_neighbors': [1, 2, 3, 4, 5, 6, 7, 8, 9, 10, 11, 12,\n",
              "                                         13, 14, 15, 16, 17, 18, 19, 20, 21, 22,\n",
              "                                         23, 24, 25, 26, 27, 28, 29]},\n",
              "             scoring='neg_mean_squared_error')>"
            ]
          },
          "metadata": {},
          "execution_count": 18
        }
      ]
    },
    {
      "cell_type": "code",
      "source": [
        "knn_regressor.best_params_"
      ],
      "metadata": {
        "id": "gJbRx58E-RMw",
        "colab": {
          "base_uri": "https://localhost:8080/"
        },
        "outputId": "fbbeba3d-9c79-439d-ecc6-37cad92c4346"
      },
      "execution_count": null,
      "outputs": [
        {
          "output_type": "execute_result",
          "data": {
            "text/plain": [
              "{'n_neighbors': 1}"
            ]
          },
          "metadata": {},
          "execution_count": 19
        }
      ]
    },
    {
      "cell_type": "markdown",
      "source": [
        "**Complete pipeline for test dataset**"
      ],
      "metadata": {
        "id": "PpLniZCpMYTJ"
      }
    },
    {
      "cell_type": "code",
      "source": [
        "df = pd.read_csv('/content/drive/MyDrive/House_pricing/test.csv')"
      ],
      "metadata": {
        "id": "1SB4NrSE9vQz"
      },
      "execution_count": null,
      "outputs": []
    },
    {
      "cell_type": "code",
      "source": [
        "\n",
        "def preprocess_and_predict(df, target):\n",
        "    '''\n",
        "      This function takes in new dataframe or row of observation and generate all features\n",
        "    Input :\n",
        "        df : DataFrame or row of observation\n",
        "        encoded_dict : Dictonary created while training for Categorical Encoded Value.\n",
        "    '''\n",
        "    df = sanity_check(df, mode='predict')\n",
        "    df = handling_missing_values(df)\n",
        "    df = handling_outliers(df, mode = 'predict')\n",
        "    encoded_dict_test, df = handling_categorical_cols(df)\n",
        "\n",
        "    X = df.drop([target], axis = 1)\n",
        "    return X, encoded_dict"
      ],
      "metadata": {
        "id": "CXsTP4RcMp03"
      },
      "execution_count": null,
      "outputs": []
    },
    {
      "cell_type": "code",
      "source": [
        "\n",
        "test_input, encoded_dict_test = preprocess_and_predict(df, 'price')\n",
        "print('encoded_dict_test_data', encoded_dict_test)\n",
        "print(test_input.head())\n",
        "knn_regressor.predict(test_input)\n",
        "\n",
        "print(knn_regressor.predict(test_input))"
      ],
      "metadata": {
        "colab": {
          "base_uri": "https://localhost:8080/"
        },
        "id": "2OF1bvyTM1eS",
        "outputId": "40b55cf2-636c-4781-e399-3d6c0ba1416c"
      },
      "execution_count": null,
      "outputs": [
        {
          "output_type": "stream",
          "name": "stdout",
          "text": [
            "sanity check done!\n",
            "handling of missing values done!\n",
            "handling of outliers done!\n",
            "encoding of categorical columns done!\n",
            "encoded_dict_test_data {'Connecticut': 0, 'Massachusetts': 1, 'New Jersey': 2, 'New York': 3, 'Pennsylvania': 4}\n",
            "    bed  bath  acre_lot  state  house_size\n",
            "0   3.0   1.0      0.13      2      1514.0\n",
            "3   4.0   3.0      0.59      0      1855.0\n",
            "7   4.0   3.0      0.46      1      1934.0\n",
            "10  3.0   1.0      0.02      2       994.0\n",
            "14  4.0   2.0      0.07      0      2072.0\n"
          ]
        },
        {
          "output_type": "stream",
          "name": "stderr",
          "text": [
            "UsageError: Line magic function `%%time` not found.\n"
          ]
        }
      ]
    },
    {
      "cell_type": "code",
      "source": [
        "import joblib\n",
        "import pickle"
      ],
      "metadata": {
        "id": "iylzIU_JNavn"
      },
      "execution_count": null,
      "outputs": []
    },
    {
      "cell_type": "code",
      "source": [
        "# Store data (serialize)\n",
        "with open('encoded.pickle', 'wb') as handle:\n",
        "    pickle.dump(encoded_dict_test, handle, protocol=pickle.HIGHEST_PROTOCOL)"
      ],
      "metadata": {
        "id": "kz_6PklqOdiX"
      },
      "execution_count": null,
      "outputs": []
    },
    {
      "cell_type": "code",
      "source": [
        "# Load data (deserialize)\n",
        "with open('encoded.pickle', 'rb') as handle:\n",
        "    saved_ecoding = pickle.load(handle)"
      ],
      "metadata": {
        "id": "LZlvDsM0OlM1"
      },
      "execution_count": null,
      "outputs": []
    },
    {
      "cell_type": "code",
      "source": [
        "# Store data (serialize)\n",
        "with open('model.pickle', 'wb') as handle:\n",
        "    pickle.dump(knn_regressor, handle, protocol=pickle.HIGHEST_PROTOCOL)"
      ],
      "metadata": {
        "id": "paQUcHe2OqjY"
      },
      "execution_count": null,
      "outputs": []
    },
    {
      "cell_type": "code",
      "source": [
        "# Load data (deserialize)\n",
        "with open('model.pickle', 'rb') as handle:\n",
        "    saved_model = pickle.load(handle)"
      ],
      "metadata": {
        "id": "mcpXXL4YOx43"
      },
      "execution_count": null,
      "outputs": []
    },
    {
      "cell_type": "code",
      "source": [
        "print(saved_model.predict(test_input))"
      ],
      "metadata": {
        "colab": {
          "base_uri": "https://localhost:8080/"
        },
        "id": "Ysc6c_LXO1Iw",
        "outputId": "e76d936d-4baf-4fa3-8d1d-c857ee235302"
      },
      "execution_count": null,
      "outputs": [
        {
          "output_type": "stream",
          "name": "stdout",
          "text": [
            "[175000. 374900. 679900. ... 459900. 415000. 225000.]\n"
          ]
        }
      ]
    },
    {
      "cell_type": "markdown",
      "source": [
        "**deployment and predictions**"
      ],
      "metadata": {
        "id": "ggu2qRgePC_G"
      }
    },
    {
      "cell_type": "code",
      "source": [
        "## API- Development\n",
        "!pip install flask-ngrok"
      ],
      "metadata": {
        "colab": {
          "base_uri": "https://localhost:8080/"
        },
        "id": "4Vz7KAD9O_Cp",
        "outputId": "a667950b-e016-4185-a86f-0f2579f5f66d"
      },
      "execution_count": null,
      "outputs": [
        {
          "output_type": "stream",
          "name": "stdout",
          "text": [
            "Looking in indexes: https://pypi.org/simple, https://us-python.pkg.dev/colab-wheels/public/simple/\n",
            "Collecting flask-ngrok\n",
            "  Downloading flask_ngrok-0.0.25-py3-none-any.whl (3.1 kB)\n",
            "Requirement already satisfied: Flask>=0.8 in /usr/local/lib/python3.8/dist-packages (from flask-ngrok) (1.1.4)\n",
            "Requirement already satisfied: requests in /usr/local/lib/python3.8/dist-packages (from flask-ngrok) (2.23.0)\n",
            "Requirement already satisfied: Werkzeug<2.0,>=0.15 in /usr/local/lib/python3.8/dist-packages (from Flask>=0.8->flask-ngrok) (1.0.1)\n",
            "Requirement already satisfied: itsdangerous<2.0,>=0.24 in /usr/local/lib/python3.8/dist-packages (from Flask>=0.8->flask-ngrok) (1.1.0)\n",
            "Requirement already satisfied: Jinja2<3.0,>=2.10.1 in /usr/local/lib/python3.8/dist-packages (from Flask>=0.8->flask-ngrok) (2.11.3)\n",
            "Requirement already satisfied: click<8.0,>=5.1 in /usr/local/lib/python3.8/dist-packages (from Flask>=0.8->flask-ngrok) (7.1.2)\n",
            "Requirement already satisfied: MarkupSafe>=0.23 in /usr/local/lib/python3.8/dist-packages (from Jinja2<3.0,>=2.10.1->Flask>=0.8->flask-ngrok) (2.0.1)\n",
            "Requirement already satisfied: chardet<4,>=3.0.2 in /usr/local/lib/python3.8/dist-packages (from requests->flask-ngrok) (3.0.4)\n",
            "Requirement already satisfied: idna<3,>=2.5 in /usr/local/lib/python3.8/dist-packages (from requests->flask-ngrok) (2.10)\n",
            "Requirement already satisfied: urllib3!=1.25.0,!=1.25.1,<1.26,>=1.21.1 in /usr/local/lib/python3.8/dist-packages (from requests->flask-ngrok) (1.24.3)\n",
            "Requirement already satisfied: certifi>=2017.4.17 in /usr/local/lib/python3.8/dist-packages (from requests->flask-ngrok) (2022.9.24)\n",
            "Installing collected packages: flask-ngrok\n",
            "Successfully installed flask-ngrok-0.0.25\n"
          ]
        }
      ]
    },
    {
      "cell_type": "code",
      "source": [
        "!pip install pyngrok==4.1.1"
      ],
      "metadata": {
        "colab": {
          "base_uri": "https://localhost:8080/"
        },
        "id": "TM-tBeLdPKxQ",
        "outputId": "9ae42df0-1290-4bd9-ba4f-2d4570d9c7f8"
      },
      "execution_count": null,
      "outputs": [
        {
          "output_type": "stream",
          "name": "stdout",
          "text": [
            "Looking in indexes: https://pypi.org/simple, https://us-python.pkg.dev/colab-wheels/public/simple/\n",
            "Collecting pyngrok==4.1.1\n",
            "  Downloading pyngrok-4.1.1.tar.gz (18 kB)\n",
            "Requirement already satisfied: future in /usr/local/lib/python3.8/dist-packages (from pyngrok==4.1.1) (0.16.0)\n",
            "Requirement already satisfied: PyYAML in /usr/local/lib/python3.8/dist-packages (from pyngrok==4.1.1) (6.0)\n",
            "Building wheels for collected packages: pyngrok\n",
            "  Building wheel for pyngrok (setup.py) ... \u001b[?25l\u001b[?25hdone\n",
            "  Created wheel for pyngrok: filename=pyngrok-4.1.1-py3-none-any.whl size=15982 sha256=ddafb8c3c324c36606e6e9f3d66c7194211312a96350ab69cdc95088c656aa0c\n",
            "  Stored in directory: /root/.cache/pip/wheels/5e/0a/51/8cb053ccd84481dd3233eba4cdb608bc7a885fd8ca418c0806\n",
            "Successfully built pyngrok\n",
            "Installing collected packages: pyngrok\n",
            "Successfully installed pyngrok-4.1.1\n"
          ]
        }
      ]
    },
    {
      "cell_type": "code",
      "source": [
        "json_data = {\"bed\":3,\"bath\":1,\"acre_lot\":0.13,\"state\":\"New York\",\"house_size\":1514}\n",
        "\n",
        "# Convert json data to dataframe\n",
        "df = pd.DataFrame.from_dict(pd.json_normalize(json_data), orient='columns')\n",
        "print(\"-\"*80)\n",
        "print(df)"
      ],
      "metadata": {
        "colab": {
          "base_uri": "https://localhost:8080/"
        },
        "id": "kzkvRjkwPNuI",
        "outputId": "a2124503-7f97-4686-f7bf-891698b47aad"
      },
      "execution_count": null,
      "outputs": [
        {
          "output_type": "stream",
          "name": "stdout",
          "text": [
            "--------------------------------------------------------------------------------\n",
            "   bed  bath  acre_lot     state  house_size\n",
            "0    3     1      0.13  New York        1514\n"
          ]
        }
      ]
    },
    {
      "cell_type": "code",
      "source": [
        "data = preprocess_and_predict(df,'price')\n",
        "print(\"-\"*80)\n",
        "print(data)\n",
        "print(\"-\"*80)"
      ],
      "metadata": {
        "id": "FdmLfrPMQSz2",
        "outputId": "c9fd18aa-45d5-4362-8318-4d93b046e517",
        "colab": {
          "base_uri": "https://localhost:8080/"
        }
      },
      "execution_count": null,
      "outputs": [
        {
          "output_type": "error",
          "ename": "KeyError",
          "evalue": "ignored",
          "traceback": [
            "\u001b[0;31m---------------------------------------------------------------------------\u001b[0m",
            "\u001b[0;31mKeyError\u001b[0m                                  Traceback (most recent call last)",
            "\u001b[0;32m/usr/local/lib/python3.8/dist-packages/pandas/core/indexes/base.py\u001b[0m in \u001b[0;36mget_loc\u001b[0;34m(self, key, method, tolerance)\u001b[0m\n\u001b[1;32m   3360\u001b[0m             \u001b[0;32mtry\u001b[0m\u001b[0;34m:\u001b[0m\u001b[0;34m\u001b[0m\u001b[0;34m\u001b[0m\u001b[0m\n\u001b[0;32m-> 3361\u001b[0;31m                 \u001b[0;32mreturn\u001b[0m \u001b[0mself\u001b[0m\u001b[0;34m.\u001b[0m\u001b[0m_engine\u001b[0m\u001b[0;34m.\u001b[0m\u001b[0mget_loc\u001b[0m\u001b[0;34m(\u001b[0m\u001b[0mcasted_key\u001b[0m\u001b[0;34m)\u001b[0m\u001b[0;34m\u001b[0m\u001b[0;34m\u001b[0m\u001b[0m\n\u001b[0m\u001b[1;32m   3362\u001b[0m             \u001b[0;32mexcept\u001b[0m \u001b[0mKeyError\u001b[0m \u001b[0;32mas\u001b[0m \u001b[0merr\u001b[0m\u001b[0;34m:\u001b[0m\u001b[0;34m\u001b[0m\u001b[0;34m\u001b[0m\u001b[0m\n",
            "\u001b[0;32m/usr/local/lib/python3.8/dist-packages/pandas/_libs/index.pyx\u001b[0m in \u001b[0;36mpandas._libs.index.IndexEngine.get_loc\u001b[0;34m()\u001b[0m\n",
            "\u001b[0;32m/usr/local/lib/python3.8/dist-packages/pandas/_libs/index.pyx\u001b[0m in \u001b[0;36mpandas._libs.index.IndexEngine.get_loc\u001b[0;34m()\u001b[0m\n",
            "\u001b[0;32mpandas/_libs/hashtable_class_helper.pxi\u001b[0m in \u001b[0;36mpandas._libs.hashtable.PyObjectHashTable.get_item\u001b[0;34m()\u001b[0m\n",
            "\u001b[0;32mpandas/_libs/hashtable_class_helper.pxi\u001b[0m in \u001b[0;36mpandas._libs.hashtable.PyObjectHashTable.get_item\u001b[0;34m()\u001b[0m\n",
            "\u001b[0;31mKeyError\u001b[0m: 'sold_date'",
            "\nThe above exception was the direct cause of the following exception:\n",
            "\u001b[0;31mKeyError\u001b[0m                                  Traceback (most recent call last)",
            "\u001b[0;32m<ipython-input-34-3d1f713ac682>\u001b[0m in \u001b[0;36m<module>\u001b[0;34m\u001b[0m\n\u001b[0;32m----> 1\u001b[0;31m \u001b[0mdata\u001b[0m \u001b[0;34m=\u001b[0m \u001b[0mpreprocess_and_predict\u001b[0m\u001b[0;34m(\u001b[0m\u001b[0mdf\u001b[0m\u001b[0;34m,\u001b[0m\u001b[0;34m'price'\u001b[0m\u001b[0;34m)\u001b[0m\u001b[0;34m\u001b[0m\u001b[0;34m\u001b[0m\u001b[0m\n\u001b[0m\u001b[1;32m      2\u001b[0m \u001b[0mprint\u001b[0m\u001b[0;34m(\u001b[0m\u001b[0;34m\"-\"\u001b[0m\u001b[0;34m*\u001b[0m\u001b[0;36m80\u001b[0m\u001b[0;34m)\u001b[0m\u001b[0;34m\u001b[0m\u001b[0;34m\u001b[0m\u001b[0m\n\u001b[1;32m      3\u001b[0m \u001b[0mprint\u001b[0m\u001b[0;34m(\u001b[0m\u001b[0mdata\u001b[0m\u001b[0;34m)\u001b[0m\u001b[0;34m\u001b[0m\u001b[0;34m\u001b[0m\u001b[0m\n\u001b[1;32m      4\u001b[0m \u001b[0mprint\u001b[0m\u001b[0;34m(\u001b[0m\u001b[0;34m\"-\"\u001b[0m\u001b[0;34m*\u001b[0m\u001b[0;36m80\u001b[0m\u001b[0;34m)\u001b[0m\u001b[0;34m\u001b[0m\u001b[0;34m\u001b[0m\u001b[0m\n",
            "\u001b[0;32m<ipython-input-21-5b4920ed0f8e>\u001b[0m in \u001b[0;36mpreprocess_and_predict\u001b[0;34m(df, target)\u001b[0m\n\u001b[1;32m      6\u001b[0m         \u001b[0mencoded_dict\u001b[0m \u001b[0;34m:\u001b[0m \u001b[0mDictonary\u001b[0m \u001b[0mcreated\u001b[0m \u001b[0;32mwhile\u001b[0m \u001b[0mtraining\u001b[0m \u001b[0;32mfor\u001b[0m \u001b[0mCategorical\u001b[0m \u001b[0mEncoded\u001b[0m \u001b[0mValue\u001b[0m\u001b[0;34m.\u001b[0m\u001b[0;34m\u001b[0m\u001b[0;34m\u001b[0m\u001b[0m\n\u001b[1;32m      7\u001b[0m     '''\n\u001b[0;32m----> 8\u001b[0;31m     \u001b[0mdf\u001b[0m \u001b[0;34m=\u001b[0m \u001b[0msanity_check\u001b[0m\u001b[0;34m(\u001b[0m\u001b[0mdf\u001b[0m\u001b[0;34m,\u001b[0m \u001b[0mmode\u001b[0m\u001b[0;34m=\u001b[0m\u001b[0;34m'predict'\u001b[0m\u001b[0;34m)\u001b[0m\u001b[0;34m\u001b[0m\u001b[0;34m\u001b[0m\u001b[0m\n\u001b[0m\u001b[1;32m      9\u001b[0m     \u001b[0mdf\u001b[0m \u001b[0;34m=\u001b[0m \u001b[0mhandling_missing_values\u001b[0m\u001b[0;34m(\u001b[0m\u001b[0mdf\u001b[0m\u001b[0;34m)\u001b[0m\u001b[0;34m\u001b[0m\u001b[0;34m\u001b[0m\u001b[0m\n\u001b[1;32m     10\u001b[0m     \u001b[0mdf\u001b[0m \u001b[0;34m=\u001b[0m \u001b[0mhandling_outliers\u001b[0m\u001b[0;34m(\u001b[0m\u001b[0mdf\u001b[0m\u001b[0;34m,\u001b[0m \u001b[0mmode\u001b[0m \u001b[0;34m=\u001b[0m \u001b[0;34m'predict'\u001b[0m\u001b[0;34m)\u001b[0m\u001b[0;34m\u001b[0m\u001b[0;34m\u001b[0m\u001b[0m\n",
            "\u001b[0;32m<ipython-input-3-9ef5c551799a>\u001b[0m in \u001b[0;36msanity_check\u001b[0;34m(df, mode)\u001b[0m\n\u001b[1;32m     10\u001b[0m       \u001b[0mprint\u001b[0m\u001b[0;34m(\u001b[0m\u001b[0;34m'Percentage of missing values column wise\\n:'\u001b[0m\u001b[0;34m,\u001b[0m \u001b[0mdf\u001b[0m\u001b[0;34m.\u001b[0m\u001b[0misnull\u001b[0m\u001b[0;34m(\u001b[0m\u001b[0;34m)\u001b[0m\u001b[0;34m.\u001b[0m\u001b[0msum\u001b[0m\u001b[0;34m(\u001b[0m\u001b[0;34m)\u001b[0m\u001b[0;34m/\u001b[0m\u001b[0mlen\u001b[0m\u001b[0;34m(\u001b[0m\u001b[0mdf\u001b[0m\u001b[0;34m)\u001b[0m\u001b[0;34m)\u001b[0m\u001b[0;34m\u001b[0m\u001b[0;34m\u001b[0m\u001b[0m\n\u001b[1;32m     11\u001b[0m     \u001b[0;31m# sold_date must be datetime object\u001b[0m\u001b[0;34m\u001b[0m\u001b[0;34m\u001b[0m\u001b[0;34m\u001b[0m\u001b[0m\n\u001b[0;32m---> 12\u001b[0;31m     \u001b[0mdf\u001b[0m\u001b[0;34m[\u001b[0m\u001b[0;34m'sold_date'\u001b[0m\u001b[0;34m]\u001b[0m \u001b[0;34m=\u001b[0m \u001b[0mpd\u001b[0m\u001b[0;34m.\u001b[0m\u001b[0mto_datetime\u001b[0m\u001b[0;34m(\u001b[0m\u001b[0mdf\u001b[0m\u001b[0;34m[\u001b[0m\u001b[0;34m'sold_date'\u001b[0m\u001b[0;34m]\u001b[0m\u001b[0;34m)\u001b[0m\u001b[0;34m\u001b[0m\u001b[0;34m\u001b[0m\u001b[0m\n\u001b[0m\u001b[1;32m     13\u001b[0m     \u001b[0mprint\u001b[0m\u001b[0;34m(\u001b[0m\u001b[0;34m'sanity check done!'\u001b[0m\u001b[0;34m)\u001b[0m\u001b[0;34m\u001b[0m\u001b[0;34m\u001b[0m\u001b[0m\n\u001b[1;32m     14\u001b[0m     \u001b[0;32mreturn\u001b[0m \u001b[0mdf\u001b[0m\u001b[0;34m\u001b[0m\u001b[0;34m\u001b[0m\u001b[0m\n",
            "\u001b[0;32m/usr/local/lib/python3.8/dist-packages/pandas/core/frame.py\u001b[0m in \u001b[0;36m__getitem__\u001b[0;34m(self, key)\u001b[0m\n\u001b[1;32m   3456\u001b[0m             \u001b[0;32mif\u001b[0m \u001b[0mself\u001b[0m\u001b[0;34m.\u001b[0m\u001b[0mcolumns\u001b[0m\u001b[0;34m.\u001b[0m\u001b[0mnlevels\u001b[0m \u001b[0;34m>\u001b[0m \u001b[0;36m1\u001b[0m\u001b[0;34m:\u001b[0m\u001b[0;34m\u001b[0m\u001b[0;34m\u001b[0m\u001b[0m\n\u001b[1;32m   3457\u001b[0m                 \u001b[0;32mreturn\u001b[0m \u001b[0mself\u001b[0m\u001b[0;34m.\u001b[0m\u001b[0m_getitem_multilevel\u001b[0m\u001b[0;34m(\u001b[0m\u001b[0mkey\u001b[0m\u001b[0;34m)\u001b[0m\u001b[0;34m\u001b[0m\u001b[0;34m\u001b[0m\u001b[0m\n\u001b[0;32m-> 3458\u001b[0;31m             \u001b[0mindexer\u001b[0m \u001b[0;34m=\u001b[0m \u001b[0mself\u001b[0m\u001b[0;34m.\u001b[0m\u001b[0mcolumns\u001b[0m\u001b[0;34m.\u001b[0m\u001b[0mget_loc\u001b[0m\u001b[0;34m(\u001b[0m\u001b[0mkey\u001b[0m\u001b[0;34m)\u001b[0m\u001b[0;34m\u001b[0m\u001b[0;34m\u001b[0m\u001b[0m\n\u001b[0m\u001b[1;32m   3459\u001b[0m             \u001b[0;32mif\u001b[0m \u001b[0mis_integer\u001b[0m\u001b[0;34m(\u001b[0m\u001b[0mindexer\u001b[0m\u001b[0;34m)\u001b[0m\u001b[0;34m:\u001b[0m\u001b[0;34m\u001b[0m\u001b[0;34m\u001b[0m\u001b[0m\n\u001b[1;32m   3460\u001b[0m                 \u001b[0mindexer\u001b[0m \u001b[0;34m=\u001b[0m \u001b[0;34m[\u001b[0m\u001b[0mindexer\u001b[0m\u001b[0;34m]\u001b[0m\u001b[0;34m\u001b[0m\u001b[0;34m\u001b[0m\u001b[0m\n",
            "\u001b[0;32m/usr/local/lib/python3.8/dist-packages/pandas/core/indexes/base.py\u001b[0m in \u001b[0;36mget_loc\u001b[0;34m(self, key, method, tolerance)\u001b[0m\n\u001b[1;32m   3361\u001b[0m                 \u001b[0;32mreturn\u001b[0m \u001b[0mself\u001b[0m\u001b[0;34m.\u001b[0m\u001b[0m_engine\u001b[0m\u001b[0;34m.\u001b[0m\u001b[0mget_loc\u001b[0m\u001b[0;34m(\u001b[0m\u001b[0mcasted_key\u001b[0m\u001b[0;34m)\u001b[0m\u001b[0;34m\u001b[0m\u001b[0;34m\u001b[0m\u001b[0m\n\u001b[1;32m   3362\u001b[0m             \u001b[0;32mexcept\u001b[0m \u001b[0mKeyError\u001b[0m \u001b[0;32mas\u001b[0m \u001b[0merr\u001b[0m\u001b[0;34m:\u001b[0m\u001b[0;34m\u001b[0m\u001b[0;34m\u001b[0m\u001b[0m\n\u001b[0;32m-> 3363\u001b[0;31m                 \u001b[0;32mraise\u001b[0m \u001b[0mKeyError\u001b[0m\u001b[0;34m(\u001b[0m\u001b[0mkey\u001b[0m\u001b[0;34m)\u001b[0m \u001b[0;32mfrom\u001b[0m \u001b[0merr\u001b[0m\u001b[0;34m\u001b[0m\u001b[0;34m\u001b[0m\u001b[0m\n\u001b[0m\u001b[1;32m   3364\u001b[0m \u001b[0;34m\u001b[0m\u001b[0m\n\u001b[1;32m   3365\u001b[0m         \u001b[0;32mif\u001b[0m \u001b[0mis_scalar\u001b[0m\u001b[0;34m(\u001b[0m\u001b[0mkey\u001b[0m\u001b[0;34m)\u001b[0m \u001b[0;32mand\u001b[0m \u001b[0misna\u001b[0m\u001b[0;34m(\u001b[0m\u001b[0mkey\u001b[0m\u001b[0;34m)\u001b[0m \u001b[0;32mand\u001b[0m \u001b[0;32mnot\u001b[0m \u001b[0mself\u001b[0m\u001b[0;34m.\u001b[0m\u001b[0mhasnans\u001b[0m\u001b[0;34m:\u001b[0m\u001b[0;34m\u001b[0m\u001b[0;34m\u001b[0m\u001b[0m\n",
            "\u001b[0;31mKeyError\u001b[0m: 'sold_date'"
          ]
        }
      ]
    },
    {
      "cell_type": "code",
      "source": [],
      "metadata": {
        "id": "XqeP3KLjQZQr"
      },
      "execution_count": null,
      "outputs": []
    }
  ]
}